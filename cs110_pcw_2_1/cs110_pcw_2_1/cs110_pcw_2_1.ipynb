{
 "cells": [
  {
   "cell_type": "markdown",
   "metadata": {},
   "source": [
    "Before you turn this problem in, make sure everything runs as expected. First, **restart the kernel** (in the menubar, select Kernel$\\rightarrow$Restart) and then **run all cells** (in the menubar, select Cell$\\rightarrow$Run All).\n",
    "\n",
    "Make sure you fill in any place that says `YOUR CODE HERE` or \"YOUR ANSWER HERE\", as well as your name and collaborators below:"
   ]
  },
  {
   "cell_type": "code",
   "execution_count": null,
   "metadata": {},
   "outputs": [],
   "source": [
    "NAME = \"Usama Puri\"\n",
    "COLLABORATORS = \"None\""
   ]
  },
  {
   "cell_type": "markdown",
   "metadata": {},
   "source": [
    "---"
   ]
  },
  {
   "cell_type": "markdown",
   "metadata": {
    "deletable": false,
    "editable": false,
    "nbgrader": {
     "checksum": "4394bdd5d17d8ce7ce4e758066ee0266",
     "grade": false,
     "grade_id": "cell-9e44910e5a73668d",
     "locked": true,
     "schema_version": 1,
     "solution": false
    }
   },
   "source": [
    "# CS110 Pre-class Work 2.1\n",
    "\n",
    "## Question 1.\n",
    "\n",
    "First, please read carefully [this note](https://drive.google.com/open?id=1SfrRTKWDb6szsJENgvNF7-u2B96ecaF2) which reviews the MERGE operation in Cormen et al.\n",
    "\n",
    "After reviewing the example above (Cormen et. al., Figure 2.3),  you need to manually create similar illustrations as in the example above but this time for the input array:\n",
    "\n",
    "![array](array.png)\n",
    "\n",
    "For this exercise, assume that the call to the algorithm is MERGE(A, 1, 3, 6) and draw different resulting stages of the arrays A, L, and R as the merge algorithm is executed.  You can hand-draw or use any drawing tool to produce panel illustrations as in the example above.  Include your final drawings in the cell below. Feel free to use additional cells (Markdown or Code) for this question.\n"
   ]
  },
  {
   "cell_type": "markdown",
   "metadata": {
    "deletable": false,
    "nbgrader": {
     "checksum": "b4d0caf51fb6b587f68db4e806af35d0",
     "grade": true,
     "grade_id": "cell-badbff7790708987",
     "locked": false,
     "points": 0,
     "schema_version": 1,
     "solution": true
    }
   },
   "source": [
    "[array](Merge_sort_diagram.png)"
   ]
  },
  {
   "cell_type": "markdown",
   "metadata": {
    "deletable": false,
    "editable": false,
    "nbgrader": {
     "checksum": "7c9608898d23ecbe07c084ca6d6da655",
     "grade": false,
     "grade_id": "cell-6dd1317d1ea8ab9f",
     "locked": true,
     "schema_version": 1,
     "solution": false
    }
   },
   "source": [
    "## Question 2.\n",
    "Now using your understanding of Part I of the merge algorithm, can you think of an efficient way to implement this part in Python? (hint: using Python list). Give your answer in prose in the cell below."
   ]
  },
  {
   "cell_type": "markdown",
   "metadata": {
    "deletable": false,
    "nbgrader": {
     "checksum": "9bf35550640c33f366c5cffad7fdf33a",
     "grade": true,
     "grade_id": "cell-4f961721620a6645",
     "locked": false,
     "points": 0,
     "schema_version": 1,
     "solution": true
    }
   },
   "source": [
    "Yes using my understanding of part 1 we can accomplish these 2 lists by just slicing the parent list.\n",
    "for example\n",
    " if len(list) > 1:\n",
    "        mid = len(list)//2\n",
    "        list1, list2 = list[:mid], list[mid:]\n",
    " \n",
    " This whole part 1 can be achieved by just 3 lines of code"
   ]
  },
  {
   "cell_type": "markdown",
   "metadata": {
    "deletable": false,
    "editable": false,
    "nbgrader": {
     "checksum": "010584ea3a4f00fba43b52bb04cd0ed2",
     "grade": false,
     "grade_id": "cell-84932c7c0c20b750",
     "locked": true,
     "schema_version": 1,
     "solution": false
    }
   },
   "source": [
    "## Question 3.\n",
    "\n",
    "Write a Python implementation of the merge pseudocode (both parts), your Python function must take the same four input arguments as described in the $MERGE(A,p,q,r)$. Test your code by running the example in problem 1 and 2 of this pre-class work. Feel free to come up with additional cases to check if your code is working properly. Your code should return A "
   ]
  },
  {
   "cell_type": "code",
   "execution_count": 63,
   "metadata": {
    "deletable": false,
    "nbgrader": {
     "checksum": "43760e27d0b385c30476353b3d546a79",
     "grade": false,
     "grade_id": "cell-a67719d65c1ac9f3",
     "locked": false,
     "schema_version": 1,
     "solution": true
    }
   },
   "outputs": [
    {
     "name": "stdout",
     "output_type": "stream",
     "text": [
      "None\n",
      "[1, 2, 4, 5, 10, 15, 24, 30]\n"
     ]
    }
   ],
   "source": [
    "def MergeSort(A, p, r):\n",
    "    #if the array is bigger than one (size of the array>1)\n",
    "    if(p < r):\n",
    "        #q is the mid point of the array in terms of index\n",
    "        q = math.floor((p + r)/2)\n",
    "        #divide the left hand side of the divided array \n",
    "        MergeSort(A, p, q)\n",
    "        #divide the right hand side of the divided array\n",
    "        MergeSort(A, q + 1, r)\n",
    "        #combine the sub array\n",
    "        Merge(A, p, q, r)\n",
    "def merge(A, p, q, r):\n",
    "    n1=q-p+1\n",
    "    n2=r-q\n",
    "     #creat array size same with left hand size\n",
    "    L = [0] * (n1)\n",
    "    #creat array size same with right hand size\n",
    "    R = [0] * (n2)\n",
    "    for i in range(0,n1):\n",
    "        L[i]=A[p+i]\n",
    "    for j in range(0, n2):\n",
    "        R[j]=A[q+j+1]\n",
    "    #Adding an infinity value to the code\n",
    "    L.append(float(\"inf\"))\n",
    "    R.append(float(\"inf\"))\n",
    "    i = 0\n",
    "    j = 0\n",
    "    #for k from 1 to array size\n",
    "    for k in range(p, r+1):\n",
    "        #if left less than right in that index\n",
    "        if(L[i] <= R[j]):\n",
    "            #substitute array with the lesser one\n",
    "            A[k] = L[i]\n",
    "            i += 1\n",
    "        else:\n",
    "            #substitue array with the lesser one\n",
    "            A[k] = R[j]\n",
    "            j += 1\n",
    "    return A\n",
    "\n",
    "arr=[1,4,5,2,10,15,30,24]\n",
    "print(MergeSort(arr,1,len(arr)-1))\n",
    "print(arr)"
   ]
  },
  {
   "cell_type": "code",
   "execution_count": null,
   "metadata": {
    "deletable": false,
    "editable": false,
    "nbgrader": {
     "checksum": "699908274975a6bff4f9fb021e666ce4",
     "grade": true,
     "grade_id": "cell-e98759fe14428af0",
     "locked": true,
     "points": 0,
     "schema_version": 1,
     "solution": false
    }
   },
   "outputs": [],
   "source": [
    "# Please ignore this cell. This cell is for us to implement the tests \n",
    "# to see if your code works properly. "
   ]
  },
  {
   "cell_type": "markdown",
   "metadata": {
    "deletable": false,
    "editable": false,
    "nbgrader": {
     "checksum": "35e241fec3dd026733d04a51fa2972fe",
     "grade": false,
     "grade_id": "cell-49f3f61ee6d72bb9",
     "locked": true,
     "schema_version": 1,
     "solution": false
    }
   },
   "source": [
    "## Question 2\n",
    "Suppose that your Python implementation of the merge algorithm is already working. Inspect the code for merge sort below:"
   ]
  },
  {
   "cell_type": "code",
   "execution_count": 35,
   "metadata": {
    "deletable": false,
    "editable": false,
    "nbgrader": {
     "checksum": "53611abb1448334a346783091382fb12",
     "grade": false,
     "grade_id": "cell-073a21c6aac8225e",
     "locked": true,
     "schema_version": 1,
     "solution": false
    }
   },
   "outputs": [],
   "source": [
    "def merge_sort(A,p,r):\n",
    "    if p < r:\n",
    "        q = (p+r)/2\n",
    "        merge_sort(A,p,q)\n",
    "        merge_sort(A,q+1,r)\n",
    "        merge(A,p,q,r)\n",
    "    return(A)"
   ]
  },
  {
   "cell_type": "markdown",
   "metadata": {
    "deletable": false,
    "editable": false,
    "nbgrader": {
     "checksum": "b708edb1e6e70731f3ec68d1d11c2890",
     "grade": false,
     "grade_id": "cell-c19a4320995e15b2",
     "locked": true,
     "schema_version": 1,
     "solution": false
    }
   },
   "source": [
    "Copy and paste the code above to the cell below and fix the bug in it. "
   ]
  },
  {
   "cell_type": "code",
   "execution_count": 8,
   "metadata": {
    "deletable": false,
    "nbgrader": {
     "checksum": "d52aee435812fe91886c6dcdfc4e3f6d",
     "grade": false,
     "grade_id": "cell-311695db35c06d65",
     "locked": false,
     "schema_version": 1,
     "solution": true
    }
   },
   "outputs": [],
   "source": [
    "def MergeSort(A, p, r):\n",
    "    #if the array is bigger than one (size of the array>1)\n",
    "    if(p < r):\n",
    "        #q is the mid point of the array in terms of index\n",
    "        q = math.floor((p + r)/2)\n",
    "        #divide the left hand side of the divided array \n",
    "        MergeSort(A, p, q)\n",
    "        #divide the right hand side of the divided array\n",
    "        MergeSort(A, q + 1, r)\n",
    "        #combine the sub array\n",
    "        Merge(A, p, q, r)\n",
    "    return A"
   ]
  },
  {
   "cell_type": "code",
   "execution_count": null,
   "metadata": {
    "deletable": false,
    "editable": false,
    "nbgrader": {
     "checksum": "35fbb3c437b3ba39ede0d87d6719223b",
     "grade": true,
     "grade_id": "cell-a3a71f67390c1f82",
     "locked": true,
     "points": 0,
     "schema_version": 1,
     "solution": false
    }
   },
   "outputs": [],
   "source": [
    "# Please ignore this cell. This cell is for us to implement the tests \n",
    "# to see if your code works properly. "
   ]
  },
  {
   "cell_type": "markdown",
   "metadata": {
    "deletable": false,
    "editable": false,
    "nbgrader": {
     "checksum": "61cfba995efe3c9c37092a650047fdf3",
     "grade": false,
     "grade_id": "cell-5b296f793fefdbfe",
     "locked": true,
     "schema_version": 1,
     "solution": false
    }
   },
   "source": [
    "# Question 5.\n",
    "As in the previous Lesson, count the number of steps and time your merge_sort() function with the following input: `list_k = [i for i in range(100*k, 0, -1)] `, where $k= 1, 2, 3, …, 15 $. \n"
   ]
  },
  {
   "cell_type": "code",
   "execution_count": 64,
   "metadata": {
    "deletable": false,
    "nbgrader": {
     "checksum": "cc3f59157e795d05422e849f3e7cc03a",
     "grade": true,
     "grade_id": "cell-8a4233ab58d3d0bb",
     "locked": false,
     "points": 0,
     "schema_version": 1,
     "solution": true
    }
   },
   "outputs": [
    {
     "name": "stdout",
     "output_type": "stream",
     "text": [
      "52\n",
      "[1, 2, 4, 5, 10, 15, 24, 30]\n"
     ]
    },
    {
     "data": {
      "image/png": "[encoded data removed]",
      "text/plain": [
       "<Figure size 432x288 with 1 Axes>"
      ]
     },
     "metadata": {},
     "output_type": "display_data"
    }
   ],
   "source": [
    "import math\n",
    "\n",
    "\n",
    "def MergeSort(A, p, r):\n",
    "    counter=0\n",
    "    #if the array is bigger than one (size of the array>1)\n",
    "    if(p < r):\n",
    "        counter+=1\n",
    "        #q is the mid point of the array in terms of index\n",
    "        q = math.floor((p + r)/2)\n",
    "        counter+=1\n",
    "        #divide the left hand side of the divided array \n",
    "        MergeSort(A, p, q)\n",
    "        counter+=1\n",
    "        #divide the right hand side of the divided array\n",
    "        MergeSort(A, q + 1, r)\n",
    "        counter+=1\n",
    "        #combine the sub array\n",
    "        Merge(A, p, q, r)\n",
    "        counter2= Merge(A, p, q, r)\n",
    "        counter+=counter2\n",
    "    return counter\n",
    " \n",
    "\n",
    "def Merge(A, p, q, r):\n",
    "    counter=0\n",
    "    p= int(p)\n",
    "    q= int(q)\n",
    "    r= int(r)\n",
    "    #size of the left hand side subarray\n",
    "    n1 = q - p + 1\n",
    "    #size of the right hand side subarray\n",
    "    n2 = r - q\n",
    "    \n",
    "    #creat array size same with left hand size\n",
    "    L = [0] * (n1)\n",
    "    counter+=1\n",
    "    #creat array size same with right hand size\n",
    "    R = [0] * (n2)\n",
    "    counter+=1\n",
    "    \n",
    "    #copy subarray into L and R\n",
    "    for i in range(0, n1):\n",
    "        counter+=1\n",
    "        L[i] = A[p + i ]\n",
    "        counter+=1\n",
    "    for j in range(0, n2):\n",
    "        counter+=1\n",
    "        R[j] = A[q + j+1]\n",
    "        counter+=1\n",
    "    #let L&R[n+1]= infinity\n",
    "    L.append(float(\"inf\"))\n",
    "    counter+=1\n",
    "    R.append(float(\"inf\"))\n",
    "    counter+=1\n",
    "    i = 0\n",
    "    counter+=1\n",
    "    j = 0\n",
    "    counter+=1\n",
    "    #for k from 1 to array size\n",
    "    for k in range(p, r+1):\n",
    "        counter+=1\n",
    "        #if left less than right in that index\n",
    "        if(L[i] <= R[j]):\n",
    "            counter+=1\n",
    "            #substitute array[i] with the lesser one\n",
    "            A[k] = L[i]\n",
    "            counter+=1\n",
    "            i += 1\n",
    "            counter+=1\n",
    "        else:\n",
    "            counter+=1\n",
    "            #sunstitue arrayp[i] with the lesser one\n",
    "            A[k] = R[j]\n",
    "            counter+=1\n",
    "            j += 1\n",
    "            counter+=1\n",
    "    return counter\n",
    "\n",
    "\n",
    "arr=[1,4,5,2,10,15,30,24]\n",
    "print(MergeSort(arr,1,len(arr)-1))\n",
    "print(arr)"
   ]
  },
  {
   "cell_type": "markdown",
   "metadata": {},
   "source": [
    "# Question 6. \n",
    "Use the code you wrote for Lesson 1.2 (i.e., selection sort, bubble sort, insertion sort). Plot the following graphs:\n",
    "* **Graph 1**: 4 lines for **the number of steps** of each of the 4 sorting algorithms (i.e., selection sort, bubble sort, insertion sort, merge sort). Which algorithm performs best? Why? \n",
    "* **Graph 2**: 4 lines for **the timing** of each of the 4 sorting algorithms (i.e., selection sort, bubble sort, insertion sort, merge sort). Which algorithm performs best? Why?\n",
    "\n",
    "Using as many cells as you wish (code cells or markdown cells alike) to complete this question.\n"
   ]
  },
  {
   "cell_type": "code",
   "execution_count": 65,
   "metadata": {
    "deletable": false,
    "nbgrader": {
     "checksum": "0561f29260f91795736500d62066a4c7",
     "grade": true,
     "grade_id": "cell-d09efb7c7fe55e69",
     "locked": false,
     "points": 0,
     "schema_version": 1,
     "solution": true
    }
   },
   "outputs": [
    {
     "data": {
      "image/png": "[encoded data removed]",
      "text/plain": [
       "<Figure size 800x640 with 1 Axes>"
      ]
     },
     "metadata": {},
     "output_type": "display_data"
    }
   ],
   "source": [
    "import random\n",
    "import time\n",
    "import matplotlib.pyplot as plt\n",
    "import numpy as np\n",
    "\n",
    "# BUBBLE SORT\n",
    "def bubble(list):\n",
    "    steps = 0\n",
    "    for i in range (1, len(list)):\n",
    "        steps += 1\n",
    "        for j in range (len(list)-1, 0, -1):\n",
    "            steps += 1\n",
    "            if list[j] < list[j-1]:\n",
    "                list[j], list[j-1] = list[j-1], list[j]\n",
    "                steps += 1\n",
    "    return steps\n",
    "    print(steps)\n",
    "\n",
    "steps=0\n",
    "l = random.sample(range(100), 20)\n",
    "l = [68, 18, 73, 64, 75, 32, 23, 1, 80, 92, 8, 53, 37, 90, 95, 46, 61, 44, 9, 88]\n",
    "bubble(l)\n",
    "\n",
    "S = [] #steps\n",
    "N = [] #number of element in the list\n",
    "\n",
    "for i in range (5, 100):\n",
    "    l = random.sample(range(1000), i)\n",
    "    S.append(bubble(l))\n",
    "    N.append(i)\n",
    "\n",
    "\n",
    "y = steps\n",
    "x = len(l)\n",
    "plt.figure(figsize=(10, 8), dpi=80)\n",
    "plt.plot(N, S, alpha = 0.5,label='Bubble Sort')\n",
    "\n",
    "\n",
    "# SELECTION SORT\n",
    "import random\n",
    "def selection(list):\n",
    "    steps = 0\n",
    "    for i in range(len(list)):\n",
    "        steps += 1\n",
    "        min_n = i\n",
    "        for j in range(i+1, len(list)):\n",
    "            steps += 1\n",
    "            if list[min_n]> list[j]:\n",
    "                steps += 1\n",
    "                min_n = j\n",
    "        list[i], list[min_n] = list[min_n], list[i]\n",
    "    return steps\n",
    "Step_selection = []\n",
    "N_selection = []\n",
    "l = random.sample(range(100), 20)\n",
    "for i in range (5, 100):\n",
    "    l = random.sample(range(1000), i)\n",
    "    Step_selection.append(selection(l))\n",
    "    N_selection.append(i)\n",
    "\n",
    "\n",
    "y = steps\n",
    "x = len(l)\n",
    "plt.plot(N_selection, Step_selection, alpha=1, color = \"red\",label='Selection Sort')\n",
    "\n",
    "\n",
    "\n",
    "# INSERTION SORT\n",
    "def insertion(list):\n",
    "    steps = 0\n",
    "    for j in range (len(list)):\n",
    "        steps +=1\n",
    "        key = list[j]\n",
    "        steps +=1\n",
    "        i = j - 1\n",
    "        while (i >= 0) and (list[i] > key):\n",
    "            steps +=1\n",
    "            list[i+1] = list[i]\n",
    "            steps +=1\n",
    "            i = i - 1\n",
    "        steps +=1    \n",
    "        list[i + 1] = key\n",
    "    return steps\n",
    "\n",
    "Step_insertion = []\n",
    "N_insertion = []\n",
    "l = random.sample(range(100), 20)\n",
    "for i in range (5, 100):\n",
    "    l = random.sample(range(1000), i)\n",
    "    Step_insertion.append(insertion(l))\n",
    "    N_insertion.append(i)\n",
    "Step_merge = []\n",
    "N_merge = []\n",
    "l = random.sample(range(100), 20)\n",
    "for i in range (5, 100):\n",
    "    l = random.sample(range(1000), i)\n",
    "    Step_merge.append(insertion(l))\n",
    "    N_merge.append(i)\n",
    "\n",
    "y = steps\n",
    "x = len(l)\n",
    "plt.plot(N_merge, Step_merge, alpha=1, label='Insertion Sort')\n",
    "\n",
    "y = steps\n",
    "x = len(l)\n",
    "plt.plot(N_insertion, Step_insertion, alpha=1, color = \"green\", label='Insertion Sort')\n",
    "plt.ylabel(\"Steps\")\n",
    "plt.xlabel(\"List length\")\n",
    "plt.title(\"Sorting Algorithms\")\n",
    "plt.legend()\n",
    "plt.show()"
   ]
  },
  {
   "cell_type": "code",
   "execution_count": null,
   "metadata": {},
   "outputs": [],
   "source": []
  }
 ],
 "metadata": {
  "kernelspec": {
   "display_name": "Python 3",
   "language": "python",
   "name": "python3"
  },
  "language_info": {
   "codemirror_mode": {
    "name": "ipython",
    "version": 3
   },
   "file_extension": ".py",
   "mimetype": "text/x-python",
   "name": "python",
   "nbconvert_exporter": "python",
   "pygments_lexer": "ipython3",
   "version": "3.6.5"
  }
 },
 "nbformat": 4,
 "nbformat_minor": 2
}
