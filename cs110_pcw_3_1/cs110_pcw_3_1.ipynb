{
 "cells": [
  {
   "cell_type": "markdown",
   "metadata": {},
   "source": [
    "Before you turn this problem in, make sure everything runs as expected. First, **restart the kernel** (in the menubar, select Kernel$\\rightarrow$Restart) and then **run all cells** (in the menubar, select Cell$\\rightarrow$Run All).\n",
    "\n",
    "Make sure you fill in any place that says `YOUR CODE HERE` or \"YOUR ANSWER HERE\", as well as your name and collaborators below:"
   ]
  },
  {
   "cell_type": "code",
   "execution_count": 1,
   "metadata": {},
   "outputs": [],
   "source": [
    "NAME = \"Usama Puri\"\n",
    "COLLABORATORS = \"Youtube, peer guidance\""
   ]
  },
  {
   "cell_type": "markdown",
   "metadata": {},
   "source": [
    "---"
   ]
  },
  {
   "cell_type": "markdown",
   "metadata": {
    "deletable": false,
    "editable": false,
    "nbgrader": {
     "checksum": "6eb33d4bbb91bdad042e00eb02fae1ad",
     "grade": false,
     "grade_id": "cell-f941f4ddd5e342f7",
     "locked": true,
     "schema_version": 1,
     "solution": false
    }
   },
   "source": [
    "# CS110 Pre-class Work 3.1\n",
    "\n",
    "## Question 1. \n",
    "Paste in your Python implementation of the maximum subarray from the previous class in the cell below and use that to find out the value of the maximum subarray of this array: `A = [-2, -3, 4, -1, -2, 1]`"
   ]
  },
  {
   "cell_type": "code",
   "execution_count": 1,
   "metadata": {
    "deletable": false,
    "nbgrader": {
     "checksum": "6c4991e90ad8cdfb8cf42529b7e5edd6",
     "grade": true,
     "grade_id": "cell-e69c8bbcd40ca242",
     "locked": false,
     "points": 0,
     "schema_version": 1,
     "solution": true
    }
   },
   "outputs": [
    {
     "data": {
      "text/plain": [
       "(2, 5, 2)"
      ]
     },
     "execution_count": 1,
     "metadata": {},
     "output_type": "execute_result"
    }
   ],
   "source": [
    "def max_subarray(A, low, mid, high):\n",
    "    left_sum = -1000\n",
    "    summ = 0\n",
    "    for i in range(mid, low-1, -1):\n",
    "        summ += A[i]\n",
    "        if summ > left_sum:\n",
    "            left_sum = summ\n",
    "            max_left = i\n",
    "    right_sum = -1000\n",
    "    summ = 0\n",
    "    for j in range(mid+1, high):\n",
    "        summ += A[j]\n",
    "        if summ > right_sum:\n",
    "            right_sum = summ\n",
    "            max_right = j\n",
    "    return(max_left, max_right, left_sum + right_sum)\n",
    "L= [-2, -3, 4, -1, -2, 1]\n",
    "\n",
    "max_subarray(L, 0, 3, 6)"
   ]
  },
  {
   "cell_type": "markdown",
   "metadata": {
    "deletable": false,
    "editable": false,
    "nbgrader": {
     "checksum": "676f4558ca97298a50665d2b57563a54",
     "grade": false,
     "grade_id": "cell-6b2d39096ef80c67",
     "locked": true,
     "schema_version": 1,
     "solution": false
    }
   },
   "source": [
    "## Question 2. \n",
    "Now, your friend Joe comes and appends a single extra number at the end of the array, which becomes:  `B = [-2, -3, 4, -1, -2, 1, 8]`. Do you have to re-run the entire maximum subarray again? Explain your answer. \n",
    "The subsequent questions will help you figure out an efficient algorithmic strategy to address the last question, but make sure to write your explanation above first, before answering the remaining questions.\n"
   ]
  },
  {
   "cell_type": "code",
   "execution_count": 45,
   "metadata": {},
   "outputs": [
    {
     "data": {
      "text/plain": [
       "(2, 6, 10)"
      ]
     },
     "execution_count": 45,
     "metadata": {},
     "output_type": "execute_result"
    }
   ],
   "source": [
    "def max_subarray(A, low, mid, high):\n",
    "    left_sum = -1000\n",
    "    summ = 0\n",
    "    for i in range(mid, low-1, -1):\n",
    "        summ += A[i]\n",
    "        if summ > left_sum:\n",
    "            left_sum = summ\n",
    "            max_left = i\n",
    "    right_sum = -1000\n",
    "    summ = 0\n",
    "    for j in range(mid+1, high):\n",
    "        summ += A[j]\n",
    "        if summ > right_sum:\n",
    "            right_sum = summ\n",
    "            max_right = j\n",
    "    return(max_left, max_right, left_sum + right_sum)\n",
    "L= [-2, -3, 4, -1, -2, 1,8]\n",
    "max_subarray(L, 0, 3, 7)"
   ]
  },
  {
   "cell_type": "markdown",
   "metadata": {
    "deletable": false,
    "nbgrader": {
     "checksum": "b848c0f0fa07252cc99055a801b12e47",
     "grade": true,
     "grade_id": "cell-d4b7cd845c816263",
     "locked": false,
     "points": 0,
     "schema_version": 1,
     "solution": true
    }
   },
   "source": [
    "YOUR ANSWER HERE"
   ]
  },
  {
   "cell_type": "markdown",
   "metadata": {
    "deletable": false,
    "editable": false,
    "nbgrader": {
     "checksum": "055be509a3fd9e61e64a6572949aa994",
     "grade": false,
     "grade_id": "cell-7280eecbaa455be1",
     "locked": true,
     "schema_version": 1,
     "solution": false
    }
   },
   "source": [
    "## Question 3. \n",
    "\n",
    "**Determine if the following statement is True or False and explain your answer.**\n",
    "If the maximum subarray of the array A is different than the maximum subarray of the array B (questions 1 and 2), the new maximum-subarray doesn’t need to include 8 (i.e., the newly appended element). \n"
   ]
  },
  {
   "cell_type": "markdown",
   "metadata": {
    "deletable": false,
    "nbgrader": {
     "checksum": "2b29f3c119737d73a7578e00d43972a4",
     "grade": true,
     "grade_id": "cell-9377964a8756f13b",
     "locked": false,
     "points": 0,
     "schema_version": 1,
     "solution": true
    }
   },
   "source": [
    "This statement is true. As the maximum subarray is re calculated by the bruteforce Algorithm and all possible sums are checked so if the incrementation of another number lowers the max sum it wont be added into the max sum of the array\n"
   ]
  },
  {
   "cell_type": "markdown",
   "metadata": {
    "deletable": false,
    "editable": false,
    "nbgrader": {
     "checksum": "461bf61cb22c2304f3988c6f34a901e8",
     "grade": false,
     "grade_id": "cell-e7cc711ccdade69f",
     "locked": true,
     "schema_version": 1,
     "solution": false
    }
   },
   "source": [
    "## Question 4.\n",
    "Complete the Python function `incremental_max_subarray(x, mx)` in the cell below.\n",
    "\n",
    "This [video](https://www.youtube.com/watch?v=AAgErqQmwmA&list=PLF_a-qBXTGFektoI6JUOTRL36JlvD04BR&index=4&t=0s)  might be helpful to understand the `incremental_max_subarray` problem."
   ]
  },
  {
   "cell_type": "code",
   "execution_count": 56,
   "metadata": {
    "deletable": false,
    "nbgrader": {
     "checksum": "ac3f0799ce4ff7159403a97b99cbb5bd",
     "grade": false,
     "grade_id": "cell-0230e459f3d701f8",
     "locked": false,
     "schema_version": 1,
     "solution": true
    }
   },
   "outputs": [
    {
     "data": {
      "text/plain": [
       "10"
      ]
     },
     "execution_count": 56,
     "metadata": {},
     "output_type": "execute_result"
    }
   ],
   "source": [
    "def max_subarray_sum(L):\n",
    "    max_so_far=L[0]\n",
    "    curr_max = L[0]\n",
    "    for i in range (1, len(L)):\n",
    "        curr_max = max(L[i], curr_max + L[i])\n",
    "        max_so_far = max(max_so_far, curr_max)\n",
    "    return max_so_far\n",
    "\n",
    "def incremental_max_subarray(x, mx):\n",
    "    curr_max = max(mx, mx + x[-1])\n",
    "    return curr_max\n",
    "\n",
    "\n",
    "# Testing the algorithm\n",
    "B = [-2, -3, 4, -1, -2, 1]\n",
    "max_subarray_sum(B)\n",
    "# OUTPUT = 2\n",
    "\n",
    "\n",
    "# Appending an extra positive value at the end of the list\n",
    "B.append(8)\n",
    "incremental_max_subarray(B, 2)\n",
    "# OUTPUT = 10"
   ]
  },
  {
   "cell_type": "code",
   "execution_count": 55,
   "metadata": {
    "deletable": false,
    "editable": false,
    "nbgrader": {
     "checksum": "70a3880be02d6f703dfa95229957e71f",
     "grade": true,
     "grade_id": "cell-9abf19e56620ffa3",
     "locked": true,
     "points": 1,
     "schema_version": 1,
     "solution": false
    }
   },
   "outputs": [
    {
     "ename": "AssertionError",
     "evalue": "",
     "output_type": "error",
     "traceback": [
      "\u001b[1;31m---------------------------------------------------------------------------\u001b[0m",
      "\u001b[1;31mAssertionError\u001b[0m                            Traceback (most recent call last)",
      "\u001b[1;32m<ipython-input-55-2256e7bbc067>\u001b[0m in \u001b[0;36m<module>\u001b[1;34m()\u001b[0m\n\u001b[0;32m      1\u001b[0m \u001b[0mB\u001b[0m \u001b[1;33m=\u001b[0m \u001b[1;33m[\u001b[0m\u001b[1;33m-\u001b[0m\u001b[1;36m2\u001b[0m\u001b[1;33m,\u001b[0m \u001b[1;33m-\u001b[0m\u001b[1;36m3\u001b[0m\u001b[1;33m,\u001b[0m \u001b[1;36m4\u001b[0m\u001b[1;33m,\u001b[0m \u001b[1;33m-\u001b[0m\u001b[1;36m1\u001b[0m\u001b[1;33m,\u001b[0m \u001b[1;33m-\u001b[0m\u001b[1;36m2\u001b[0m\u001b[1;33m,\u001b[0m \u001b[1;36m1\u001b[0m\u001b[1;33m,\u001b[0m \u001b[1;36m8\u001b[0m\u001b[1;33m]\u001b[0m\u001b[1;33m\u001b[0m\u001b[0m\n\u001b[1;32m----> 2\u001b[1;33m \u001b[1;32massert\u001b[0m\u001b[1;33m(\u001b[0m\u001b[0mincremental_max_subarray\u001b[0m\u001b[1;33m(\u001b[0m\u001b[0mB\u001b[0m\u001b[1;33m,\u001b[0m \u001b[1;36m4\u001b[0m\u001b[1;33m)\u001b[0m \u001b[1;33m==\u001b[0m \u001b[1;36m10\u001b[0m\u001b[1;33m)\u001b[0m\u001b[1;33m\u001b[0m\u001b[0m\n\u001b[0m\u001b[0;32m      3\u001b[0m \u001b[1;32massert\u001b[0m\u001b[1;33m(\u001b[0m\u001b[0mincremental_max_subarray\u001b[0m\u001b[1;33m(\u001b[0m\u001b[0mB\u001b[0m\u001b[1;33m[\u001b[0m\u001b[1;33m:\u001b[0m\u001b[1;36m1\u001b[0m\u001b[1;33m]\u001b[0m\u001b[1;33m,\u001b[0m \u001b[1;36m0\u001b[0m\u001b[1;33m)\u001b[0m \u001b[1;33m==\u001b[0m \u001b[0mB\u001b[0m\u001b[1;33m[\u001b[0m\u001b[1;36m0\u001b[0m\u001b[1;33m]\u001b[0m\u001b[1;33m)\u001b[0m\u001b[1;33m\u001b[0m\u001b[0m\n",
      "\u001b[1;31mAssertionError\u001b[0m: "
     ]
    }
   ],
   "source": [
    "B = [-2, -3, 4, -1, -2, 1, 8]\n",
    "assert(incremental_max_subarray(B, 4) == 10)\n",
    "assert(incremental_max_subarray(B[:1], 0) == B[0])"
   ]
  },
  {
   "cell_type": "markdown",
   "metadata": {
    "deletable": false,
    "nbgrader": {
     "checksum": "278d2e7036e916ce0fafffdd0c237584",
     "grade": true,
     "grade_id": "cell-bacebe71191cbd0f",
     "locked": false,
     "points": 0,
     "schema_version": 1,
     "solution": true
    }
   },
   "source": [
    "YOUR ANSWER HERE"
   ]
  },
  {
   "cell_type": "code",
   "execution_count": 62,
   "metadata": {
    "deletable": false,
    "nbgrader": {
     "checksum": "d9cdd0a60c40e487e87d79d21915e36b",
     "grade": false,
     "grade_id": "cell-fd96d4ccccd99fe6",
     "locked": false,
     "schema_version": 1,
     "solution": true
    }
   },
   "outputs": [
    {
     "data": {
      "text/plain": [
       "11.0"
      ]
     },
     "execution_count": 62,
     "metadata": {},
     "output_type": "execute_result"
    }
   ],
   "source": [
    "\"\"\"\n",
    "    Using `incremental_max_subarray` iteratively on A to produce the value of the maximum\n",
    "    subarray of A.\n",
    "    \n",
    "    Inputs:\n",
    "    - A: a NON-EMPTY list of floats\n",
    "    \n",
    "    Outputs: flaot, the sum of the maximum subarray of A\n",
    "\"\"\"\n",
    "def max_subarray_sum(L):\n",
    "    max_so_far=L[0]\n",
    "    curr_max = L[0]\n",
    "    for i in range (1, len(L)):\n",
    "        curr_max = max(L[i], curr_max + L[i])\n",
    "        max_so_far = max(max_so_far, curr_max)\n",
    "    return max_so_far\n",
    "\n",
    "def incremental_max_subarray(x, mx):\n",
    "    curr_max = max(mx, mx + x[-1])\n",
    "    return curr_max\n",
    "\n",
    "\n",
    "# Testing the algorithm\n",
    "B = [-2.5, -3.5, 4.25, -1.5, -2.25, 1.5]\n",
    "max_subarray_sum(B)\n",
    "# OUTPUT = 2.25\n",
    "\n",
    "\n",
    "# Appending an extra positive value at the end of the list\n",
    "B.append(8.75)\n",
    "incremental_max_subarray(B, 2.25)\n",
    "# OUTPUT = 11.0\n"
   ]
  },
  {
   "cell_type": "code",
   "execution_count": null,
   "metadata": {
    "deletable": false,
    "editable": false,
    "nbgrader": {
     "checksum": "74149a9559625383203ec1320bff5558",
     "grade": true,
     "grade_id": "cell-669ad779766aa2c3",
     "locked": true,
     "points": 1,
     "schema_version": 1,
     "solution": false
    }
   },
   "outputs": [],
   "source": [
    "# Please ignore this cell. This cell is for us to implement the tests \n",
    "# to see if your code works properly. "
   ]
  },
  {
   "cell_type": "markdown",
   "metadata": {
    "deletable": false,
    "editable": false,
    "nbgrader": {
     "checksum": "03054d2ff22ec9310060ab534208ec0d",
     "grade": false,
     "grade_id": "cell-ae966fc92d098939",
     "locked": true,
     "schema_version": 1,
     "solution": false
    }
   },
   "source": [
    "### Part 2.\n",
    "Is this more efficient than the divide-and-conquer approach? Explain."
   ]
  },
  {
   "cell_type": "markdown",
   "metadata": {
    "deletable": false,
    "nbgrader": {
     "checksum": "69eb86a7f05367f6396017910664f67d",
     "grade": true,
     "grade_id": "cell-cd8f0b130a7136db",
     "locked": false,
     "points": 0,
     "schema_version": 1,
     "solution": true
    }
   },
   "source": [
    "To figure out which Algorithm is the more efficient one we have to consider the number of steps taking place in the Algorithms and we can then guess their Big O notation using recursion tree method."
   ]
  },
  {
   "cell_type": "code",
   "execution_count": null,
   "metadata": {},
   "outputs": [],
   "source": []
  }
 ],
 "metadata": {
  "kernelspec": {
   "display_name": "Python 3",
   "language": "python",
   "name": "python3"
  },
  "language_info": {
   "codemirror_mode": {
    "name": "ipython",
    "version": 3
   },
   "file_extension": ".py",
   "mimetype": "text/x-python",
   "name": "python",
   "nbconvert_exporter": "python",
   "pygments_lexer": "ipython3",
   "version": "3.6.5"
  }
 },
 "nbformat": 4,
 "nbformat_minor": 2
}
