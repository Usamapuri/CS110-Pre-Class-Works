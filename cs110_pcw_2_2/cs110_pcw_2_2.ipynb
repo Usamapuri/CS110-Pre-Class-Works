{
 "cells": [
  {
   "cell_type": "markdown",
   "metadata": {},
   "source": [
    "Before you turn this problem in, make sure everything runs as expected. First, **restart the kernel** (in the menubar, select Kernel$\\rightarrow$Restart) and then **run all cells** (in the menubar, select Cell$\\rightarrow$Run All).\n",
    "\n",
    "Make sure you fill in any place that says `YOUR CODE HERE` or \"YOUR ANSWER HERE\", as well as your name and collaborators below:"
   ]
  },
  {
   "cell_type": "code",
   "execution_count": 1,
   "metadata": {},
   "outputs": [],
   "source": [
    "NAME = \"Usama Puri\"\n",
    "COLLABORATORS = \"None\""
   ]
  },
  {
   "cell_type": "markdown",
   "metadata": {},
   "source": [
    "---"
   ]
  },
  {
   "cell_type": "markdown",
   "metadata": {
    "deletable": false,
    "editable": false,
    "nbgrader": {
     "checksum": "c650e4f3477fb1b0666f4f7d1d7cfd38",
     "grade": false,
     "grade_id": "cell-a415b724e36aa852",
     "locked": true,
     "schema_version": 1,
     "solution": false
    }
   },
   "source": [
    "# CS110 Pre-class Work 2.2\n",
    "\n",
    "## Question 1 (Exercise 3.1-3 of Cormen, et al. )\n",
    "Explain why the statement, \"The running time of algorithm A is at least $O(n^2)$,\" is meaningless.\n"
   ]
  },
  {
   "cell_type": "markdown",
   "metadata": {
    "deletable": false,
    "nbgrader": {
     "checksum": "d6f28cb6ab1a8f547f022f1932f609f9",
     "grade": true,
     "grade_id": "cell-437d61c1420d4f99",
     "locked": false,
     "points": 0,
     "schema_version": 1,
     "solution": true
    }
   },
   "source": [
    "The O(n^2) bound on the worst-case running time of an algorithm, however, does not imply a ‚O(n^2) bound on the running time of that algorithm for every input. \n",
    "\n",
    "For example, when the input is already sorted, insertion sort runs in ‚ O(n) time. Technically, it is an abuse to say that the running time of insertion sort is O(n^2), since for a given n, the actual running time varies, depending on the particular input of size n. When we say “the running time is O(n^2),” we mean that there is a function f(n) that is O(n^2) such that for any value of n, no matter what particular input of size n is chosen, the running time on that input is bounded from above by the value f(n). Equivalently, we mean that the worst-case running time is O(n^2)"
   ]
  },
  {
   "cell_type": "markdown",
   "metadata": {
    "deletable": false,
    "editable": false,
    "nbgrader": {
     "checksum": "def6c9c9f606feea2e7a711e51c65304",
     "grade": false,
     "grade_id": "cell-7d82282e0c8a03e3",
     "locked": true,
     "schema_version": 1,
     "solution": false
    }
   },
   "source": [
    "## Question 2 (Exercise 3.1-4 of Cormen, et al. )\n",
    "\n",
    "Is $2^{n+1}=O(2^n)$? Is $2^{2n}=O(2^n)$?"
   ]
  },
  {
   "cell_type": "markdown",
   "metadata": {
    "deletable": false,
    "nbgrader": {
     "checksum": "9ea64ba2361ca4a6d09f468ddf82f39b",
     "grade": true,
     "grade_id": "cell-6a0c4ee19dadfddf",
     "locked": false,
     "points": 0,
     "schema_version": 1,
     "solution": true
    }
   },
   "source": [
    "2^(n+1) ≥ 2(2n) for all n ≥ 0, so 2^(n+1) = O(2^n).\n",
    "\n",
    "However, 2^2n is not O(2^n). If it were, there would exist n0 and c such that n ≥ n0 implies 2n x 2n = 2^2n ≤ c2n,\n",
    "so 2n ≤ c for n ≥ n0 which is clearly impossible since c is a constant."
   ]
  },
  {
   "cell_type": "markdown",
   "metadata": {
    "deletable": false,
    "editable": false,
    "nbgrader": {
     "checksum": "b7ea4393551187246e7a7a7399d38250",
     "grade": false,
     "grade_id": "cell-e4fe88238c9e912a",
     "locked": true,
     "schema_version": 1,
     "solution": false
    }
   },
   "source": [
    "## Question 3.\n",
    "Write a function in Python that solves the maximum-subarray problem using a brute-force approach. Your Python function must:\n",
    "* Take as Input an array/list  of numbers\n",
    "* Produce the following Output: \n",
    "    * the start and end indices of the subarray containing the maximum sum.\n",
    "    * value of the maximum subarray (float)\n"
   ]
  },
  {
   "cell_type": "code",
   "execution_count": 58,
   "metadata": {
    "deletable": false,
    "nbgrader": {
     "checksum": "c98e89c42d52953c5e460a0126592e2a",
     "grade": false,
     "grade_id": "cell-527e6532d6992fd0",
     "locked": false,
     "schema_version": 1,
     "solution": true
    }
   },
   "outputs": [
    {
     "data": {
      "text/plain": [
       "(1, 8, 44)"
      ]
     },
     "execution_count": 58,
     "metadata": {},
     "output_type": "execute_result"
    }
   ],
   "source": [
    "def bruteforce_max_subarray(A):\n",
    "    length=len(A)\n",
    "    mid=A[int(length/2)]\n",
    "    low=A[0]\n",
    "    high=A[-1]\n",
    "    left_sum = -1000\n",
    "    summ = 0\n",
    "    for i in range(mid, low-1, -1):\n",
    "        summ += A[i]\n",
    "        if summ > left_sum:\n",
    "            left_sum = summ\n",
    "            max_left = i\n",
    "    right_sum = -1000\n",
    "    summ = 0\n",
    "    for j in range(mid+1, high):\n",
    "        summ += A[j]\n",
    "        if summ > right_sum:\n",
    "            right_sum = summ\n",
    "            max_right = j\n",
    "    return(max_left, max_right, left_sum + right_sum)\n",
    "L=[-1, 2, 3, 4, 5, 6, 7, 8, 9, -10]\n",
    "bruteforce_max_subarray(L)"
   ]
  },
  {
   "cell_type": "code",
   "execution_count": 5,
   "metadata": {
    "deletable": false,
    "editable": false,
    "nbgrader": {
     "checksum": "57ec4672631bc8d61833077d1977b3e3",
     "grade": true,
     "grade_id": "cell-a28a56466c9537ff",
     "locked": true,
     "points": 1,
     "schema_version": 1,
     "solution": false
    }
   },
   "outputs": [
    {
     "ename": "TypeError",
     "evalue": "bruteforce_max_subarray() missing 3 required positional arguments: 'low', 'mid', and 'high'",
     "output_type": "error",
     "traceback": [
      "\u001b[1;31m---------------------------------------------------------------------------\u001b[0m",
      "\u001b[1;31mTypeError\u001b[0m                                 Traceback (most recent call last)",
      "\u001b[1;32m<ipython-input-5-5ddab6f2f574>\u001b[0m in \u001b[0;36m<module>\u001b[1;34m()\u001b[0m\n\u001b[1;32m----> 1\u001b[1;33m \u001b[1;32massert\u001b[0m\u001b[1;33m(\u001b[0m\u001b[0mbruteforce_max_subarray\u001b[0m\u001b[1;33m(\u001b[0m\u001b[1;33m[\u001b[0m\u001b[1;33m-\u001b[0m\u001b[1;36m2\u001b[0m\u001b[1;33m,\u001b[0m\u001b[1;36m1\u001b[0m\u001b[1;33m,\u001b[0m\u001b[1;33m-\u001b[0m\u001b[1;36m1\u001b[0m\u001b[1;33m,\u001b[0m\u001b[1;36m2\u001b[0m\u001b[1;33m,\u001b[0m\u001b[1;33m-\u001b[0m\u001b[1;36m5\u001b[0m\u001b[1;33m]\u001b[0m\u001b[1;33m)\u001b[0m \u001b[1;33m==\u001b[0m \u001b[1;33m(\u001b[0m\u001b[1;36m1\u001b[0m\u001b[1;33m,\u001b[0m \u001b[1;36m3\u001b[0m\u001b[1;33m,\u001b[0m \u001b[1;36m2\u001b[0m\u001b[1;33m)\u001b[0m\u001b[1;33m)\u001b[0m\u001b[1;33m\u001b[0m\u001b[0m\n\u001b[0m\u001b[0;32m      2\u001b[0m \u001b[1;32massert\u001b[0m\u001b[1;33m(\u001b[0m\u001b[0mbruteforce_max_subarray\u001b[0m\u001b[1;33m(\u001b[0m\u001b[1;33m[\u001b[0m\u001b[1;33m-\u001b[0m\u001b[1;36m2\u001b[0m\u001b[1;33m,\u001b[0m \u001b[1;33m-\u001b[0m\u001b[1;36m5\u001b[0m\u001b[1;33m,\u001b[0m \u001b[1;36m6\u001b[0m\u001b[1;33m,\u001b[0m \u001b[1;33m-\u001b[0m\u001b[1;36m2\u001b[0m\u001b[1;33m,\u001b[0m \u001b[1;33m-\u001b[0m\u001b[1;36m3\u001b[0m\u001b[1;33m,\u001b[0m \u001b[1;36m1\u001b[0m\u001b[1;33m,\u001b[0m \u001b[1;36m5\u001b[0m\u001b[1;33m,\u001b[0m \u001b[1;33m-\u001b[0m\u001b[1;36m6\u001b[0m\u001b[1;33m]\u001b[0m\u001b[1;33m)\u001b[0m \u001b[1;33m==\u001b[0m \u001b[1;33m(\u001b[0m\u001b[1;36m2\u001b[0m\u001b[1;33m,\u001b[0m \u001b[1;36m6\u001b[0m\u001b[1;33m,\u001b[0m \u001b[1;36m7\u001b[0m\u001b[1;33m)\u001b[0m\u001b[1;33m)\u001b[0m\u001b[1;33m\u001b[0m\u001b[0m\n",
      "\u001b[1;31mTypeError\u001b[0m: bruteforce_max_subarray() missing 3 required positional arguments: 'low', 'mid', and 'high'"
     ]
    }
   ],
   "source": [
    "assert(bruteforce_max_subarray([-2,1,-1,2,-5]) == (1, 3, 2))\n",
    "assert(bruteforce_max_subarray([-2, -5, 6, -2, -3, 1, 5, -6]) == (2, 6, 7))"
   ]
  },
  {
   "cell_type": "markdown",
   "metadata": {
    "deletable": false,
    "editable": false,
    "nbgrader": {
     "checksum": "8625e044853f9c85838ca9f6ca4db9c4",
     "grade": false,
     "grade_id": "cell-ba342b15913cb4d3",
     "locked": true,
     "schema_version": 1,
     "solution": false
    }
   },
   "source": [
    "## Question 4. \n",
    "Test your Python maximum-subarray function using the following input list (from Figure 4.3 of Cormen et al.):  \n",
    "`A = [13, -3, -25, 20, -3, -16, -23, 18, 20, -7, 12, -5, -22, 15, -4, 7] `\n",
    "\n",
    "If your Python implementation is correct, your code must return: \n",
    "* 43 - which is the answer to the maximum subarray problem, and \n",
    "* <7, 10> -the start and the end indices of the max subarray. \n",
    "\n"
   ]
  },
  {
   "cell_type": "code",
   "execution_count": 60,
   "metadata": {
    "deletable": false,
    "nbgrader": {
     "checksum": "9084301761509ba09820ee55035fd115",
     "grade": true,
     "grade_id": "cell-e4a632ce0edc1697",
     "locked": false,
     "points": 0,
     "schema_version": 1,
     "solution": true
    }
   },
   "outputs": [
    {
     "ename": "UnboundLocalError",
     "evalue": "local variable 'max_right' referenced before assignment",
     "output_type": "error",
     "traceback": [
      "\u001b[1;31m---------------------------------------------------------------------------\u001b[0m",
      "\u001b[1;31mUnboundLocalError\u001b[0m                         Traceback (most recent call last)",
      "\u001b[1;32m<ipython-input-60-2464841c993d>\u001b[0m in \u001b[0;36m<module>\u001b[1;34m()\u001b[0m\n\u001b[0;32m     16\u001b[0m     \u001b[1;32mreturn\u001b[0m\u001b[1;33m(\u001b[0m\u001b[0mmax_left\u001b[0m\u001b[1;33m,\u001b[0m \u001b[0mmax_right\u001b[0m\u001b[1;33m,\u001b[0m \u001b[0mleft_sum\u001b[0m \u001b[1;33m+\u001b[0m \u001b[0mright_sum\u001b[0m\u001b[1;33m)\u001b[0m\u001b[1;33m\u001b[0m\u001b[0m\n\u001b[0;32m     17\u001b[0m \u001b[0mA\u001b[0m \u001b[1;33m=\u001b[0m \u001b[1;33m[\u001b[0m\u001b[1;36m13\u001b[0m\u001b[1;33m,\u001b[0m \u001b[1;33m-\u001b[0m\u001b[1;36m3\u001b[0m\u001b[1;33m,\u001b[0m \u001b[1;33m-\u001b[0m\u001b[1;36m25\u001b[0m\u001b[1;33m,\u001b[0m \u001b[1;36m20\u001b[0m\u001b[1;33m,\u001b[0m \u001b[1;33m-\u001b[0m\u001b[1;36m3\u001b[0m\u001b[1;33m,\u001b[0m \u001b[1;33m-\u001b[0m\u001b[1;36m16\u001b[0m\u001b[1;33m,\u001b[0m \u001b[1;33m-\u001b[0m\u001b[1;36m23\u001b[0m\u001b[1;33m,\u001b[0m \u001b[1;36m18\u001b[0m\u001b[1;33m,\u001b[0m \u001b[1;36m20\u001b[0m\u001b[1;33m,\u001b[0m \u001b[1;33m-\u001b[0m\u001b[1;36m7\u001b[0m\u001b[1;33m,\u001b[0m \u001b[1;36m12\u001b[0m\u001b[1;33m,\u001b[0m \u001b[1;33m-\u001b[0m\u001b[1;36m5\u001b[0m\u001b[1;33m,\u001b[0m \u001b[1;33m-\u001b[0m\u001b[1;36m22\u001b[0m\u001b[1;33m,\u001b[0m \u001b[1;36m15\u001b[0m\u001b[1;33m,\u001b[0m \u001b[1;33m-\u001b[0m\u001b[1;36m4\u001b[0m\u001b[1;33m,\u001b[0m \u001b[1;36m7\u001b[0m\u001b[1;33m]\u001b[0m\u001b[1;33m\u001b[0m\u001b[0m\n\u001b[1;32m---> 18\u001b[1;33m \u001b[0mbruteforce_max_subarray\u001b[0m\u001b[1;33m(\u001b[0m\u001b[0mA\u001b[0m\u001b[1;33m,\u001b[0m \u001b[1;36m0\u001b[0m\u001b[1;33m,\u001b[0m\u001b[1;36m8\u001b[0m \u001b[1;33m,\u001b[0m\u001b[1;33m-\u001b[0m\u001b[1;36m1\u001b[0m\u001b[1;33m)\u001b[0m\u001b[1;33m\u001b[0m\u001b[0m\n\u001b[0m",
      "\u001b[1;32m<ipython-input-60-2464841c993d>\u001b[0m in \u001b[0;36mbruteforce_max_subarray\u001b[1;34m(A, low, mid, high)\u001b[0m\n\u001b[0;32m     14\u001b[0m             \u001b[0mright_sum\u001b[0m \u001b[1;33m=\u001b[0m \u001b[0msumm\u001b[0m\u001b[1;33m\u001b[0m\u001b[0m\n\u001b[0;32m     15\u001b[0m             \u001b[0mmax_right\u001b[0m \u001b[1;33m=\u001b[0m \u001b[0mj\u001b[0m\u001b[1;33m\u001b[0m\u001b[0m\n\u001b[1;32m---> 16\u001b[1;33m     \u001b[1;32mreturn\u001b[0m\u001b[1;33m(\u001b[0m\u001b[0mmax_left\u001b[0m\u001b[1;33m,\u001b[0m \u001b[0mmax_right\u001b[0m\u001b[1;33m,\u001b[0m \u001b[0mleft_sum\u001b[0m \u001b[1;33m+\u001b[0m \u001b[0mright_sum\u001b[0m\u001b[1;33m)\u001b[0m\u001b[1;33m\u001b[0m\u001b[0m\n\u001b[0m\u001b[0;32m     17\u001b[0m \u001b[0mA\u001b[0m \u001b[1;33m=\u001b[0m \u001b[1;33m[\u001b[0m\u001b[1;36m13\u001b[0m\u001b[1;33m,\u001b[0m \u001b[1;33m-\u001b[0m\u001b[1;36m3\u001b[0m\u001b[1;33m,\u001b[0m \u001b[1;33m-\u001b[0m\u001b[1;36m25\u001b[0m\u001b[1;33m,\u001b[0m \u001b[1;36m20\u001b[0m\u001b[1;33m,\u001b[0m \u001b[1;33m-\u001b[0m\u001b[1;36m3\u001b[0m\u001b[1;33m,\u001b[0m \u001b[1;33m-\u001b[0m\u001b[1;36m16\u001b[0m\u001b[1;33m,\u001b[0m \u001b[1;33m-\u001b[0m\u001b[1;36m23\u001b[0m\u001b[1;33m,\u001b[0m \u001b[1;36m18\u001b[0m\u001b[1;33m,\u001b[0m \u001b[1;36m20\u001b[0m\u001b[1;33m,\u001b[0m \u001b[1;33m-\u001b[0m\u001b[1;36m7\u001b[0m\u001b[1;33m,\u001b[0m \u001b[1;36m12\u001b[0m\u001b[1;33m,\u001b[0m \u001b[1;33m-\u001b[0m\u001b[1;36m5\u001b[0m\u001b[1;33m,\u001b[0m \u001b[1;33m-\u001b[0m\u001b[1;36m22\u001b[0m\u001b[1;33m,\u001b[0m \u001b[1;36m15\u001b[0m\u001b[1;33m,\u001b[0m \u001b[1;33m-\u001b[0m\u001b[1;36m4\u001b[0m\u001b[1;33m,\u001b[0m \u001b[1;36m7\u001b[0m\u001b[1;33m]\u001b[0m\u001b[1;33m\u001b[0m\u001b[0m\n\u001b[0;32m     18\u001b[0m \u001b[0mbruteforce_max_subarray\u001b[0m\u001b[1;33m(\u001b[0m\u001b[0mA\u001b[0m\u001b[1;33m,\u001b[0m \u001b[1;36m0\u001b[0m\u001b[1;33m,\u001b[0m\u001b[1;36m8\u001b[0m \u001b[1;33m,\u001b[0m\u001b[1;33m-\u001b[0m\u001b[1;36m1\u001b[0m\u001b[1;33m)\u001b[0m\u001b[1;33m\u001b[0m\u001b[0m\n",
      "\u001b[1;31mUnboundLocalError\u001b[0m: local variable 'max_right' referenced before assignment"
     ]
    }
   ],
   "source": [
    "def bruteforce_max_subarray(A, low, mid, high):\n",
    "    left_sum = -1000\n",
    "    summ = 0\n",
    "    for i in range(mid, low-1, -1):\n",
    "        summ += A[i]\n",
    "        if summ > left_sum:\n",
    "            left_sum = summ\n",
    "            max_left = i\n",
    "    right_sum = -1000\n",
    "    summ = 0\n",
    "    for j in range(mid+1, high):\n",
    "        summ += A[j]\n",
    "        if summ > right_sum:\n",
    "            right_sum = summ\n",
    "            max_right = j\n",
    "    return(max_left, max_right, left_sum + right_sum)\n",
    "A = [13, -3, -25, 20, -3, -16, -23, 18, 20, -7, 12, -5, -22, 15, -4, 7]\n",
    "bruteforce_max_subarray(A, 0,8 ,-1)"
   ]
  },
  {
   "cell_type": "markdown",
   "metadata": {
    "deletable": false,
    "editable": false,
    "nbgrader": {
     "checksum": "e99f275368a5231d3692d72e62ad372d",
     "grade": false,
     "grade_id": "cell-345f6f0bc7b4e001",
     "locked": true,
     "schema_version": 1,
     "solution": false
    }
   },
   "source": [
    "## Question 5. Asymptotic notation. \n",
    "Complete the following table using the asymptotic notation that best describes the problem. For example, if both $O(n^3)$ and $O(n)$ are possible for an algorithm, the answer is $O(n)$ because the function $f(n) = O(n)$ provides a tighter and more accurate fit; if both $O(n)$ and $\\Theta(n)$ are possible, the correct answer is $\\Theta(n)$ because $\\Theta(n)$ provides both information about the upper and lower bound, thus it is more accurate than $O(n)$.\n",
    "\n",
    "You should copy the following table and paste and edit it in the cell below. \n",
    "\n",
    "Algorithm | Big Oh ($O$) | Big Theta ($\\Theta$)\n",
    "--- | --- | ---\n",
    "Insertion sort |  |\n",
    "Selection sort |  |\n",
    "Bubble sort |  | \n",
    "Finding maximum subarray |  |"
   ]
  },
  {
   "cell_type": "markdown",
   "metadata": {
    "deletable": false,
    "nbgrader": {
     "checksum": "6a2e8546bb697eda40015086f8405788",
     "grade": true,
     "grade_id": "cell-247c51df276b622e",
     "locked": false,
     "points": 0,
     "schema_version": 1,
     "solution": true
    }
   },
   "source": [
    "\n",
    "Algorithm | Big Oh ($O$) | Big Theta ($\\Theta$)\n",
    "--- | --- | ---\n",
    "Insertion sort | O(n^2) | O(n^2))\n",
    "Selection sort | O(n^2) |  O(n^2)\n",
    "Bubble sort | О(n^2) | O(n)\n",
    "Finding maximum subarray |O(n^2)  |"
   ]
  },
  {
   "cell_type": "markdown",
   "metadata": {
    "deletable": false,
    "editable": false,
    "nbgrader": {
     "checksum": "033981aff08a9064f5553137db1a4841",
     "grade": false,
     "grade_id": "cell-9e53f43b4530cd79",
     "locked": true,
     "schema_version": 1,
     "solution": false
    }
   },
   "source": [
    "## [Optional] Question 6. \n",
    "How can you change this code to make it find the minimum-subarray?"
   ]
  },
  {
   "cell_type": "code",
   "execution_count": null,
   "metadata": {
    "deletable": false,
    "nbgrader": {
     "checksum": "462bcec4b06cc6fbda0e34c29e30b1fb",
     "grade": false,
     "grade_id": "cell-f4553f71858d1bc4",
     "locked": false,
     "schema_version": 1,
     "solution": true
    }
   },
   "outputs": [],
   "source": [
    "def bruteforce_min_subarray(A):\n",
    "    \"\"\"Implements brute-force maximum subarray finding.\n",
    "    \n",
    "    Inputs:\n",
    "    - A: a NON-EMPTY list of floats\n",
    "    \n",
    "    Outputs: A tuple of\n",
    "    - the start index of the max subarray\n",
    "    - the end index of the max subarray\n",
    "    - the value of the maximum subarray\n",
    "    \"\"\"\n",
    "    # YOUR CODE HERE\n",
    "    raise NotImplementedError()"
   ]
  },
  {
   "cell_type": "code",
   "execution_count": null,
   "metadata": {
    "deletable": false,
    "editable": false,
    "nbgrader": {
     "checksum": "70322c36cf22b5f720e6c338f08925c2",
     "grade": true,
     "grade_id": "cell-4263c7494a5f09d3",
     "locked": true,
     "points": 0,
     "schema_version": 1,
     "solution": false
    }
   },
   "outputs": [],
   "source": [
    "assert(bruteforce_min_subarray([1]*10)[0] == bruteforce_min_subarray([1]*10)[1])\n",
    "assert(bruteforce_min_subarray([1]*10)[2] == 1)"
   ]
  },
  {
   "cell_type": "code",
   "execution_count": null,
   "metadata": {},
   "outputs": [],
   "source": [
    "\n"
   ]
  }
 ],
 "metadata": {
  "kernelspec": {
   "display_name": "Python 3",
   "language": "python",
   "name": "python3"
  },
  "language_info": {
   "codemirror_mode": {
    "name": "ipython",
    "version": 3
   },
   "file_extension": ".py",
   "mimetype": "text/x-python",
   "name": "python",
   "nbconvert_exporter": "python",
   "pygments_lexer": "ipython3",
   "version": "3.6.5"
  }
 },
 "nbformat": 4,
 "nbformat_minor": 2
}
