{
 "cells": [
  {
   "cell_type": "code",
   "execution_count": 63,
   "metadata": {},
   "outputs": [
    {
     "data": {
      "text/plain": [
       "{2}"
      ]
     },
     "execution_count": 63,
     "metadata": {},
     "output_type": "execute_result"
    }
   ],
   "source": [
    "import random\n",
    "\n",
    "my_set = {x for x in range(1,100)} #Creating a set of 100 integers\n",
    "my_list = [x for x in range(1, 100)] #Creating an Array of 100 integers\n",
    "secret_num = random.randint(1,100) #Selecting a random integer to delete\n",
    "\n",
    "#This is the random integer that is deleted\n",
    "#print(secret_num)\n",
    "my_list.pop(secret_num-1)\n",
    "\n",
    "## First non-optimal function\n",
    "def find_missing_number(set_num, array):\n",
    "    #Looking for the element in the set not present in the list\n",
    "    a = {x for x in set_num if x not in array}\n",
    "    return a\n",
    "\n",
    "\n",
    "find_missing_number(my_set, my_list)"
   ]
  },
  {
   "cell_type": "code",
   "execution_count": 64,
   "metadata": {},
   "outputs": [],
   "source": [
    "import random\n",
    "\n",
    "random.seed(12345)\n",
    "def empty_hash_table(N):\n",
    "    return [[] for n in range(N)]\n",
    "\n",
    "\n",
    "def add_to_hash_table(hash_table, item):\n",
    "    N = len(hash_table)\n",
    "    key = hash(item)%N\n",
    "    hash_table[key].append(item)\n",
    "    return hash_table\n",
    "\n",
    "\n",
    "def contains(hash_table, item):\n",
    "    element = []\n",
    "    N = len(hash_table)\n",
    "    #key through the hash function\n",
    "    key = hash(item)%N \n",
    "    lst = hash_table[key]\n",
    "    for el in lst: \n",
    "        if el != item:\n",
    "            element.append(el)\n",
    "    return (element)"
   ]
  },
  {
   "cell_type": "code",
   "execution_count": 65,
   "metadata": {},
   "outputs": [],
   "source": [
    "N = len(my_set)\n",
    "hash1 = empty_hash_table(N)\n",
    "for i in my_list:\n",
    "    ht = add_to_hash_table(hash1, i)\n",
    "    \n",
    "for j in my_set:\n",
    "    contains(hash1, j)"
   ]
  }
 ],
 "metadata": {
  "kernelspec": {
   "display_name": "Python 3",
   "language": "python",
   "name": "python3"
  },
  "language_info": {
   "codemirror_mode": {
    "name": "ipython",
    "version": 3
   },
   "file_extension": ".py",
   "mimetype": "text/x-python",
   "name": "python",
   "nbconvert_exporter": "python",
   "pygments_lexer": "ipython3",
   "version": "3.7.4"
  }
 },
 "nbformat": 4,
 "nbformat_minor": 2
}
