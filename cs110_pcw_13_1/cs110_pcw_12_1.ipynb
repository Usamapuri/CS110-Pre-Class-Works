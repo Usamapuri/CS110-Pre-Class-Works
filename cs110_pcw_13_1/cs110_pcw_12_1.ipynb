{
 "cells": [
  {
   "cell_type": "markdown",
   "metadata": {},
   "source": [
    "Before you turn this problem in, make sure everything runs as expected. First, **restart the kernel** (in the menubar, select Kernel$\\rightarrow$Restart) and then **run all cells** (in the menubar, select Cell$\\rightarrow$Run All).\n",
    "\n",
    "Make sure you fill in any place that says `YOUR CODE HERE` or \"YOUR ANSWER HERE\", as well as your name and collaborators below:"
   ]
  },
  {
   "cell_type": "code",
   "execution_count": null,
   "metadata": {},
   "outputs": [],
   "source": [
    "NAME = \"Usama Puri\"\n",
    "COLLABORATORS = \"\""
   ]
  },
  {
   "cell_type": "markdown",
   "metadata": {},
   "source": [
    "---"
   ]
  },
  {
   "cell_type": "markdown",
   "metadata": {
    "deletable": false,
    "editable": false,
    "nbgrader": {
     "checksum": "0f21ce4c9e01aa6a231ae85c9319acf3",
     "grade": false,
     "grade_id": "cell-f49515decdd20fa1",
     "locked": true,
     "schema_version": 1,
     "solution": false
    }
   },
   "source": [
    "# CS110 Pre-class Work 12.1\n",
    "\n",
    "## Question 1.\n",
    "Define the `enqueue(self, x)` and `dequeue(self)` methods of the class `Queue` below, by modifying the cell. You do not need to include the error checking for underflow and overflow. You can follow the pseudo-codes on p.235, Cormen et al. to complete this task."
   ]
  },
  {
   "cell_type": "code",
   "execution_count": 13,
   "metadata": {
    "deletable": false,
    "nbgrader": {
     "checksum": "7e29f9d49b8f1ac6d8a416278c338aaa",
     "grade": false,
     "grade_id": "cell-ebbe229b0421e86e",
     "locked": false,
     "schema_version": 1,
     "solution": true
    }
   },
   "outputs": [],
   "source": [
    "class Queue(object):\n",
    "    def __init__(self, length):\n",
    "        self.length = length\n",
    "        self.head = 1\n",
    "        self.tail = 1\n",
    "        self.q = {}\n",
    "        for i in range(1, self.length+1):\n",
    "            self.q[i] = None\n",
    "    \n",
    "    def enqueue(self, x):\n",
    "        self.tail=x\n",
    "        if self.tail==self.length:\n",
    "            self.tail=1\n",
    "        else: \n",
    "            self.tail= self.tail+1\n",
    "    def dequeue(self):\n",
    "        x=self.head\n",
    "        if self.head== self.length:\n",
    "            self.head=1\n",
    "        else:\n",
    "            self.head=self.head+1\n",
    "        return x"
   ]
  },
  {
   "cell_type": "markdown",
   "metadata": {
    "deletable": false,
    "editable": false,
    "nbgrader": {
     "checksum": "70c402b90b1c8213eaf69a116c0a3c45",
     "grade": false,
     "grade_id": "cell-9e685a1fdf0e1bf6",
     "locked": true,
     "schema_version": 1,
     "solution": false
    }
   },
   "source": [
    "## Question 2. \n",
    "\n",
    "Below, the first cell is a working code for two classes, `Node` and `Graph` that can be used to represent undirected or directed graphs. Use these two classes to complete the function `bfs` that implements the breath-first search algorithm in the second cell."
   ]
  },
  {
   "cell_type": "code",
   "execution_count": 14,
   "metadata": {
    "deletable": false,
    "editable": false,
    "nbgrader": {
     "checksum": "67f0f9b0f8b0039c23ed185490e394fb",
     "grade": false,
     "grade_id": "cell-2dfede3b8a3adb96",
     "locked": true,
     "schema_version": 1,
     "solution": false
    }
   },
   "outputs": [
    {
     "name": "stdout",
     "output_type": "stream",
     "text": [
      "r: [s v] color: W dist: inf pi: Nil,\n",
      "s: [r w] color: W dist: inf pi: Nil,\n",
      "t: [w x u] color: W dist: inf pi: Nil,\n",
      "u: [t x y] color: W dist: inf pi: Nil,\n",
      "v: [r] color: W dist: inf pi: Nil,\n",
      "w: [s t x] color: W dist: inf pi: Nil,\n",
      "x: [w t u y] color: W dist: inf pi: Nil,\n",
      "y: [u x] color: W dist: inf pi: Nil,\n",
      "\n"
     ]
    }
   ],
   "source": [
    "class Node: \n",
    "    \n",
    "    BLACK = 'B'\n",
    "    GRAY = 'G'\n",
    "    WHITE = 'W'\n",
    "    \n",
    "    def __init__(self, name, adj_list=None, weighted_adj_list=None): \n",
    "        self.name = name\n",
    "        self.color = Node.WHITE\n",
    "        self.pi = None\n",
    "        self.dist = float('inf')\n",
    "        self.adj_list = adj_list\n",
    "        if not adj_list: \n",
    "            self.adj_list = []\n",
    "        \n",
    "    def add_edge(self, node): \n",
    "        if node.name not in self.adj_list: \n",
    "            self.adj_list.append(node.name)\n",
    "        \n",
    "    def remove_edge(self, node): \n",
    "        self.adj_list.remove(node.name)\n",
    "        \n",
    "    def to_string(self): \n",
    "        res = self.name + ': [' + ' '.join(self.adj_list) + '] color: ' + self.color + ' dist: ' + str(self.dist)\n",
    "        if not self.pi:\n",
    "            res += ' pi: Nil'\n",
    "        else: \n",
    "            res += ' pi: ' + self.pi\n",
    "        return res\n",
    "\n",
    "class Graph: \n",
    "    \n",
    "    def __init__(self, nodes={}): \n",
    "        self.nodes = nodes\n",
    "        \n",
    "    def add_node(self,node): \n",
    "        self.nodes[node.name] = node\n",
    "        \n",
    "    def add_edge(self,n1,n2): \n",
    "        self.nodes[n1].add_edge(self.nodes[n2])\n",
    "        \n",
    "    def remove_edge(self, n1, n2): \n",
    "        self.nodes[n1].remove_edge(self.nodes[n2])\n",
    "        \n",
    "    def to_string(self): \n",
    "        res = \"\"\n",
    "        for n in self.nodes.keys(): \n",
    "            res += self.nodes[n].to_string() + \",\\n\"\n",
    "        return res\n",
    "      \n",
    "g = Graph({})\n",
    "g.add_node(Node('r', ['s','v']))\n",
    "g.add_node(Node('s', ['r','w']))\n",
    "g.add_node(Node('t', ['w','x','u']))\n",
    "g.add_node(Node('u', ['t','x','y']))\n",
    "g.add_node(Node('v', ['r']))\n",
    "g.add_node(Node('w', ['s','t','x']))\n",
    "g.add_node(Node('x', ['w','t','u','y']))\n",
    "g.add_node(Node('y', ['u','x']))\n",
    "\n",
    "print(g.to_string())"
   ]
  },
  {
   "cell_type": "code",
   "execution_count": 15,
   "metadata": {
    "deletable": false,
    "nbgrader": {
     "checksum": "760f180f167347b70d63a81bd97bdc00",
     "grade": false,
     "grade_id": "cell-79459bfd60700881",
     "locked": false,
     "schema_version": 1,
     "solution": true
    }
   },
   "outputs": [],
   "source": [
    "def bfs(G,s):\n",
    "    \"\"\"\n",
    "    Breath-first search\n",
    "    \n",
    "    Inputs:\n",
    "    - G: a graph (instance of Graph)\n",
    "    - s: string, name of the source vertex which is an instance of Node\n",
    "    \n",
    "    Output:\n",
    "    - info: string, what is returned by G.to_string()\n",
    "    \"\"\"\n",
    "    for u in G.nodes:  # for each element on the graph\n",
    "        G.nodes[u].color = Node.WHITE  # make the color white\n",
    "        G.nodes[u].dist = float(\"inf\") # assign the distance to a very large number \n",
    "        G.nodes[u].pi = None  # assign the pi to NIL\n",
    "            \n",
    "    G.nodes[s].color = Node.GRAY  # take the s node and change the color to gray\n",
    "    G.nodes[s].dist = 0  # change the distance to 0\n",
    "    G.nodes[s].pi = None # change the pi to NIL, which should already be NIL\n",
    "    \n",
    "    Q = Queue(len(G.nodes))  # make a queue for with the length of nodes in graph\n",
    "    Q.enqueue(G.nodes[s]) # append the element s into the queue\n",
    "    \n",
    "    count = len(Q.q)  # define a count\n",
    "    while count != 0:  # while there are still elements in the queue\n",
    "        u = Q.dequeue()  # remove first element and assing it to u\n",
    "        if u != None:  # check if u is not empty\n",
    "            adj = u.adj_list # if not, make a adj using the attribute adj_list\n",
    "            for v in adj: # for each elemnt in afj\n",
    "                if G.nodes[v].color == \"W\": # check if the color is not white\n",
    "                    G.nodes[v].color = Node.GRAY # change the color to gray\n",
    "                    G.nodes[v].dist = u.dist +1 # add one to distance\n",
    "                    G.nodes[v].pi = u.name # and change the value of pi to u\n",
    "                    Q.enqueue(G.nodes[v]) # finally, add the element to queue\n",
    "            u.color = Node.BLACK # change the color of u to black \n",
    "        count = count - 1 # decrease the count by one and move to the next element\n",
    "    return(G.to_string()) # return the G.to_string"
   ]
  },
  {
   "cell_type": "markdown",
   "metadata": {
    "deletable": false,
    "editable": false,
    "nbgrader": {
     "checksum": "39083ef10d9964de5fedd745ae0216a1",
     "grade": false,
     "grade_id": "cell-df5e25eea74070b9",
     "locked": true,
     "schema_version": 1,
     "solution": false
    }
   },
   "source": [
    "## Question 3.\n",
    "\n",
    "Solve exercise 22.2-1 in Cormen et al. by following these steps:\n",
    "1. Build a graph G that represents the graph in Figure 22.2-(a). The names of the vertices are noted in each vertex (1, 2, 3, 4, 5, and 6)\n",
    "2. Print the info returned by `bfs`"
   ]
  },
  {
   "cell_type": "code",
   "execution_count": 16,
   "metadata": {
    "deletable": false,
    "nbgrader": {
     "checksum": "b0d6e287db54e8c0cc714362ffdb21ef",
     "grade": true,
     "grade_id": "cell-692a09a756ecaa40",
     "locked": false,
     "points": 0,
     "schema_version": 1,
     "solution": true
    }
   },
   "outputs": [
    {
     "ename": "TypeError",
     "evalue": "unsupported operand type(s) for +: 'Node' and 'int'",
     "output_type": "error",
     "traceback": [
      "\u001b[1;31m---------------------------------------------------------------------------\u001b[0m",
      "\u001b[1;31mTypeError\u001b[0m                                 Traceback (most recent call last)",
      "\u001b[1;32m<ipython-input-16-878063bc7dae>\u001b[0m in \u001b[0;36m<module>\u001b[1;34m()\u001b[0m\n\u001b[0;32m      6\u001b[0m \u001b[0mh\u001b[0m\u001b[1;33m.\u001b[0m\u001b[0madd_node\u001b[0m\u001b[1;33m(\u001b[0m\u001b[0mNode\u001b[0m\u001b[1;33m(\u001b[0m\u001b[1;34m'5'\u001b[0m\u001b[1;33m,\u001b[0m \u001b[1;33m[\u001b[0m\u001b[1;34m'4'\u001b[0m\u001b[1;33m,\u001b[0m\u001b[1;34m'1'\u001b[0m\u001b[1;33m,\u001b[0m\u001b[1;34m'2'\u001b[0m\u001b[1;33m]\u001b[0m\u001b[1;33m)\u001b[0m\u001b[1;33m)\u001b[0m\u001b[1;33m\u001b[0m\u001b[0m\n\u001b[0;32m      7\u001b[0m \u001b[1;33m\u001b[0m\u001b[0m\n\u001b[1;32m----> 8\u001b[1;33m \u001b[0mbfs\u001b[0m\u001b[1;33m(\u001b[0m\u001b[0mh\u001b[0m\u001b[1;33m,\u001b[0m\u001b[1;34m'3'\u001b[0m\u001b[1;33m)\u001b[0m\u001b[1;33m\u001b[0m\u001b[0m\n\u001b[0m\u001b[0;32m      9\u001b[0m \u001b[0mprint\u001b[0m\u001b[1;33m(\u001b[0m\u001b[0mh\u001b[0m\u001b[1;33m.\u001b[0m\u001b[0mto_string\u001b[0m\u001b[1;33m(\u001b[0m\u001b[1;33m)\u001b[0m\u001b[1;33m)\u001b[0m\u001b[1;33m\u001b[0m\u001b[0m\n\u001b[0;32m     10\u001b[0m \u001b[1;33m\u001b[0m\u001b[0m\n",
      "\u001b[1;32m<ipython-input-15-227ab2ac0891>\u001b[0m in \u001b[0;36mbfs\u001b[1;34m(G, s)\u001b[0m\n\u001b[0;32m     20\u001b[0m \u001b[1;33m\u001b[0m\u001b[0m\n\u001b[0;32m     21\u001b[0m     \u001b[0mQ\u001b[0m \u001b[1;33m=\u001b[0m \u001b[0mQueue\u001b[0m\u001b[1;33m(\u001b[0m\u001b[0mlen\u001b[0m\u001b[1;33m(\u001b[0m\u001b[0mG\u001b[0m\u001b[1;33m.\u001b[0m\u001b[0mnodes\u001b[0m\u001b[1;33m)\u001b[0m\u001b[1;33m)\u001b[0m  \u001b[1;31m# make a queue for with the length of nodes in graph\u001b[0m\u001b[1;33m\u001b[0m\u001b[0m\n\u001b[1;32m---> 22\u001b[1;33m     \u001b[0mQ\u001b[0m\u001b[1;33m.\u001b[0m\u001b[0menqueue\u001b[0m\u001b[1;33m(\u001b[0m\u001b[0mG\u001b[0m\u001b[1;33m.\u001b[0m\u001b[0mnodes\u001b[0m\u001b[1;33m[\u001b[0m\u001b[0ms\u001b[0m\u001b[1;33m]\u001b[0m\u001b[1;33m)\u001b[0m \u001b[1;31m# append the element s into the queue\u001b[0m\u001b[1;33m\u001b[0m\u001b[0m\n\u001b[0m\u001b[0;32m     23\u001b[0m \u001b[1;33m\u001b[0m\u001b[0m\n\u001b[0;32m     24\u001b[0m     \u001b[0mcount\u001b[0m \u001b[1;33m=\u001b[0m \u001b[0mlen\u001b[0m\u001b[1;33m(\u001b[0m\u001b[0mQ\u001b[0m\u001b[1;33m.\u001b[0m\u001b[0mq\u001b[0m\u001b[1;33m)\u001b[0m  \u001b[1;31m# define a count\u001b[0m\u001b[1;33m\u001b[0m\u001b[0m\n",
      "\u001b[1;32m<ipython-input-13-b0002e7681fa>\u001b[0m in \u001b[0;36menqueue\u001b[1;34m(self, x)\u001b[0m\n\u001b[0;32m     13\u001b[0m             \u001b[0mself\u001b[0m\u001b[1;33m.\u001b[0m\u001b[0mtail\u001b[0m\u001b[1;33m=\u001b[0m\u001b[1;36m1\u001b[0m\u001b[1;33m\u001b[0m\u001b[0m\n\u001b[0;32m     14\u001b[0m         \u001b[1;32melse\u001b[0m\u001b[1;33m:\u001b[0m\u001b[1;33m\u001b[0m\u001b[0m\n\u001b[1;32m---> 15\u001b[1;33m             \u001b[0mself\u001b[0m\u001b[1;33m.\u001b[0m\u001b[0mtail\u001b[0m\u001b[1;33m=\u001b[0m \u001b[0mself\u001b[0m\u001b[1;33m.\u001b[0m\u001b[0mtail\u001b[0m\u001b[1;33m+\u001b[0m\u001b[1;36m1\u001b[0m\u001b[1;33m\u001b[0m\u001b[0m\n\u001b[0m\u001b[0;32m     16\u001b[0m     \u001b[1;32mdef\u001b[0m \u001b[0mdequeue\u001b[0m\u001b[1;33m(\u001b[0m\u001b[0mself\u001b[0m\u001b[1;33m)\u001b[0m\u001b[1;33m:\u001b[0m\u001b[1;33m\u001b[0m\u001b[0m\n\u001b[0;32m     17\u001b[0m         \u001b[0mx\u001b[0m\u001b[1;33m=\u001b[0m\u001b[0mself\u001b[0m\u001b[1;33m.\u001b[0m\u001b[0mhead\u001b[0m\u001b[1;33m\u001b[0m\u001b[0m\n",
      "\u001b[1;31mTypeError\u001b[0m: unsupported operand type(s) for +: 'Node' and 'int'"
     ]
    }
   ],
   "source": [
    "h = Graph({})\n",
    "h.add_node(Node('1', ['2','5']))\n",
    "h.add_node(Node('2', ['1','5','3','4']))\n",
    "h.add_node(Node('3', ['2','4']))\n",
    "h.add_node(Node('4', ['2','5','3']))\n",
    "h.add_node(Node('5', ['4','1','2']))\n",
    "\n",
    "bfs(h,'3')\n",
    "print(h.to_string())\n",
    "\n",
    "bfs(h,'3')\n",
    "print(h.to_string())"
   ]
  },
  {
   "cell_type": "markdown",
   "metadata": {
    "deletable": false,
    "editable": false,
    "nbgrader": {
     "checksum": "e383fc84bbdac7b0911f3d6f17c80a34",
     "grade": false,
     "grade_id": "cell-71c8b5ed8faa8e34",
     "locked": true,
     "schema_version": 1,
     "solution": false
    }
   },
   "source": [
    "## Question 4.\n",
    "Solve exercise 22.2-2 in Cormen et al. by following these steps:\n",
    "1. Build a graph G that represents the graph in Figure 22.3-(a). Note that the names of the vertices are given as `r`, `x`, `t`, `u`, etc.\n",
    "2. Print the info returned by `bfs`"
   ]
  },
  {
   "cell_type": "code",
   "execution_count": 39,
   "metadata": {
    "deletable": false,
    "nbgrader": {
     "checksum": "c977a39ba030c39d3fba8cc1ca0d5dfe",
     "grade": true,
     "grade_id": "cell-eccd2dcb9f2eec18",
     "locked": false,
     "points": 0,
     "schema_version": 1,
     "solution": true
    }
   },
   "outputs": [
    {
     "ename": "AttributeError",
     "evalue": "'str' object has no attribute 'head'",
     "output_type": "error",
     "traceback": [
      "\u001b[1;31m---------------------------------------------------------------------------\u001b[0m",
      "\u001b[1;31mAttributeError\u001b[0m                            Traceback (most recent call last)",
      "\u001b[1;32m<ipython-input-39-6aa6a6b33ab3>\u001b[0m in \u001b[0;36m<module>\u001b[1;34m()\u001b[0m\n\u001b[0;32m     11\u001b[0m \u001b[1;31m#print(g.to_string())\u001b[0m\u001b[1;33m\u001b[0m\u001b[1;33m\u001b[0m\u001b[0m\n\u001b[0;32m     12\u001b[0m \u001b[1;33m\u001b[0m\u001b[0m\n\u001b[1;32m---> 13\u001b[1;33m \u001b[0mbfs\u001b[0m\u001b[1;33m(\u001b[0m\u001b[0mg\u001b[0m\u001b[1;33m,\u001b[0m\u001b[1;34m'y'\u001b[0m\u001b[1;33m)\u001b[0m\u001b[1;33m\u001b[0m\u001b[0m\n\u001b[0m\u001b[0;32m     14\u001b[0m \u001b[0mprint\u001b[0m\u001b[1;33m(\u001b[0m\u001b[0mg\u001b[0m\u001b[1;33m.\u001b[0m\u001b[0mto_string\u001b[0m\u001b[1;33m(\u001b[0m\u001b[1;33m)\u001b[0m\u001b[1;33m)\u001b[0m\u001b[1;33m\u001b[0m\u001b[0m\n\u001b[0;32m     15\u001b[0m \u001b[1;33m\u001b[0m\u001b[0m\n",
      "\u001b[1;32m<ipython-input-37-bfac6dcc40d9>\u001b[0m in \u001b[0;36mbfs\u001b[1;34m(G, s)\u001b[0m\n\u001b[0;32m     19\u001b[0m             \u001b[0mG\u001b[0m\u001b[1;33m.\u001b[0m\u001b[0mnodes\u001b[0m\u001b[1;33m[\u001b[0m\u001b[0madj_id\u001b[0m\u001b[1;33m]\u001b[0m\u001b[1;33m.\u001b[0m\u001b[0mpi\u001b[0m \u001b[1;33m=\u001b[0m \u001b[0mvtx_id\u001b[0m\u001b[1;33m\u001b[0m\u001b[0m\n\u001b[0;32m     20\u001b[0m \u001b[1;33m\u001b[0m\u001b[0m\n\u001b[1;32m---> 21\u001b[1;33m     \u001b[0mtraverse_order\u001b[0m \u001b[1;33m=\u001b[0m \u001b[0mQueue\u001b[0m\u001b[1;33m.\u001b[0m\u001b[0mdequeue\u001b[0m\u001b[1;33m(\u001b[0m\u001b[0ms\u001b[0m\u001b[1;33m)\u001b[0m\u001b[1;33m\u001b[0m\u001b[0m\n\u001b[0m\u001b[0;32m     22\u001b[0m     \u001b[1;32mwhile\u001b[0m \u001b[0mlen\u001b[0m\u001b[1;33m(\u001b[0m\u001b[0mtraverse_order\u001b[0m\u001b[1;33m)\u001b[0m \u001b[1;33m>\u001b[0m \u001b[1;36m0\u001b[0m\u001b[1;33m:\u001b[0m\u001b[1;33m\u001b[0m\u001b[0m\n\u001b[0;32m     23\u001b[0m         \u001b[0mcur_id\u001b[0m \u001b[1;33m=\u001b[0m \u001b[0mtraverse_order\u001b[0m\u001b[1;33m.\u001b[0m\u001b[0mpopleft\u001b[0m\u001b[1;33m(\u001b[0m\u001b[1;33m)\u001b[0m\u001b[1;33m\u001b[0m\u001b[0m\n",
      "\u001b[1;32m<ipython-input-35-1aebcc70ee11>\u001b[0m in \u001b[0;36mdequeue\u001b[1;34m(self)\u001b[0m\n\u001b[0;32m     15\u001b[0m             \u001b[0mself\u001b[0m\u001b[1;33m.\u001b[0m\u001b[0mtail\u001b[0m\u001b[1;33m+=\u001b[0m\u001b[1;36m1\u001b[0m\u001b[1;33m\u001b[0m\u001b[0m\n\u001b[0;32m     16\u001b[0m     \u001b[1;32mdef\u001b[0m \u001b[0mdequeue\u001b[0m\u001b[1;33m(\u001b[0m\u001b[0mself\u001b[0m\u001b[1;33m)\u001b[0m\u001b[1;33m:\u001b[0m\u001b[1;33m\u001b[0m\u001b[0m\n\u001b[1;32m---> 17\u001b[1;33m         \u001b[0mx\u001b[0m\u001b[1;33m=\u001b[0m\u001b[0mself\u001b[0m\u001b[1;33m[\u001b[0m\u001b[0mself\u001b[0m\u001b[1;33m.\u001b[0m\u001b[0mhead\u001b[0m\u001b[1;33m]\u001b[0m\u001b[1;33m\u001b[0m\u001b[0m\n\u001b[0m\u001b[0;32m     18\u001b[0m         \u001b[1;32mif\u001b[0m \u001b[0mself\u001b[0m\u001b[1;33m.\u001b[0m\u001b[0mhead\u001b[0m\u001b[1;33m==\u001b[0m \u001b[0mself\u001b[0m\u001b[1;33m.\u001b[0m\u001b[0mlength\u001b[0m\u001b[1;33m:\u001b[0m\u001b[1;33m\u001b[0m\u001b[0m\n\u001b[0;32m     19\u001b[0m             \u001b[0mself\u001b[0m\u001b[1;33m.\u001b[0m\u001b[0mhead\u001b[0m\u001b[1;33m=\u001b[0m\u001b[1;36m1\u001b[0m\u001b[1;33m\u001b[0m\u001b[0m\n",
      "\u001b[1;31mAttributeError\u001b[0m: 'str' object has no attribute 'head'"
     ]
    }
   ],
   "source": [
    "g = Graph({})\n",
    "g.add_node(Node('r', ['s','v']))\n",
    "g.add_node(Node('s', ['r','w']))\n",
    "g.add_node(Node('t', ['w','x','u']))\n",
    "g.add_node(Node('u', ['t','x','y']))\n",
    "g.add_node(Node('v', ['r']))\n",
    "g.add_node(Node('w', ['s','t','x']))\n",
    "g.add_node(Node('x', ['w','t','u','y']))\n",
    "g.add_node(Node('y', ['u','x']))\n",
    "\n",
    "#print(g.to_string())\n",
    "\n",
    "bfs(g,'y')\n",
    "print(g.to_string())\n",
    "\n",
    "bfs(g,'y')\n",
    "print(g.to_string())"
   ]
  },
  {
   "cell_type": "markdown",
   "metadata": {
    "deletable": false,
    "editable": false,
    "nbgrader": {
     "checksum": "5a09e4cae5de3aec672714362e8b27d2",
     "grade": false,
     "grade_id": "cell-aae6917929e609dd",
     "locked": true,
     "schema_version": 1,
     "solution": false
    }
   },
   "source": [
    "## Question 5.\n",
    "Is the shortest path problem in an undirected graph suitable for a dynamic programming solution? Why or why not?\n"
   ]
  },
  {
   "cell_type": "markdown",
   "metadata": {
    "deletable": false,
    "nbgrader": {
     "checksum": "4ce458227450628bf1c354006e74dc8d",
     "grade": true,
     "grade_id": "cell-e0446af225564643",
     "locked": false,
     "points": 0,
     "schema_version": 1,
     "solution": true
    }
   },
   "source": [
    "In my view yes as through dynamic programming we dont explicitly store all the edge values in a table rather we store it as an attribute of the node. The only change we will have to make is that our program should recognize if this distance has been already calculated or not for which we can add an If statement which makes b=u == u=b, After doing so we can calcutale the required shortest path"
   ]
  },
  {
   "cell_type": "markdown",
   "metadata": {
    "deletable": false,
    "editable": false,
    "nbgrader": {
     "checksum": "f9a675e4875e995f261285d322e59ac2",
     "grade": false,
     "grade_id": "cell-bc2f4b735ce6608d",
     "locked": true,
     "schema_version": 1,
     "solution": false
    }
   },
   "source": [
    "## Question 6. \n",
    "Answer in prose what changes need to be made to the graph representation to incorporate the concept of edge weights."
   ]
  },
  {
   "cell_type": "markdown",
   "metadata": {
    "deletable": false,
    "nbgrader": {
     "checksum": "29d70dd6835f376857472704851c81f0",
     "grade": true,
     "grade_id": "cell-a9d4e31b797ed485",
     "locked": false,
     "points": 0,
     "schema_version": 1,
     "solution": true
    }
   },
   "source": [
    "We will have to introdute another attribute to the nore names as weight and then iterate it throught the graph which will give weights to all the edges"
   ]
  },
  {
   "cell_type": "code",
   "execution_count": null,
   "metadata": {},
   "outputs": [],
   "source": []
  }
 ],
 "metadata": {
  "kernelspec": {
   "display_name": "Python 3",
   "language": "python",
   "name": "python3"
  },
  "language_info": {
   "codemirror_mode": {
    "name": "ipython",
    "version": 3
   },
   "file_extension": ".py",
   "mimetype": "text/x-python",
   "name": "python",
   "nbconvert_exporter": "python",
   "pygments_lexer": "ipython3",
   "version": "3.6.5"
  }
 },
 "nbformat": 4,
 "nbformat_minor": 2
}
